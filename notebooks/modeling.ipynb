import pandas as pd
import numpy as np
from sklearn.model_selection import train_test_split
from sklearn.linear_model import LinearRegression
from sklearn.ensemble import RandomForestRegressor
from sklearn.metrics import mean_squared_error, r2_score
import matplotlib.pyplot as plt

#Load datasets
sales = pd.read_csv("data/raw/game_sales.csv")
reviews = pd.read_csv("data/raw/game_reviews_and_ratings.csv")

sales.rename(columns={'Name': 'Game_Title'}, inplace=True)
reviews.rename(columns={'Game Title': 'Game_Title'}, inplace=True)

#Delete missing 
sales = sales.dropna(subset=['Game_Title', 'Global_Sales'])
reviews = reviews.dropna(subset=['Game_Title', 'User Rating'])

#Merge 
df = pd.merge(sales, reviews, on='Game_Title', how='inner')

cols = ['User Rating', 'Critic_Score', 'User_Score',
        'Graphics Quality', 'Soundtrack Quality', 'Story Quality',
        'Game Length (Hours)', 'Global_Sales']

df = df[cols].dropna()

X = df.drop(columns='Global_Sales')
y = df['Global_Sales']

#Split 
X_train, X_test, y_train, y_test = train_test_split(X, y, test_size=0.2, random_state=42)

#Linear regression model
lr = LinearRegression()
lr.fit(X_train, y_train)
lr_preds = lr.predict(X_test)

print("Linear Regression")
print("R²:", r2_score(y_test, lr_preds))
print("RMSE:", mean_squared_error(y_test, lr_preds, squared=False))

#Random forest model
rf = RandomForestRegressor(n_estimators=100, random_state=42)
rf.fit(X_train, y_train)
rf_preds = rf.predict(X_test)

print("\nRandom Forest")
print("R²:", r2_score(y_test, rf_preds))
print("RMSE:", mean_squared_error(y_test, rf_preds, squared=False))

#Plot predictions
plt.figure(figsize=(8, 5))
plt.scatter(y_test, rf_preds, alpha=0.6)
plt.plot([0, max(y_test)], [0, max(y_test)], 'r--')
plt.xlabel("Actual Sales")
plt.ylabel("Predicted Sales")
plt.title("Random Forest: Predicted vs Actual")
plt.tight_layout()
plt.show()
