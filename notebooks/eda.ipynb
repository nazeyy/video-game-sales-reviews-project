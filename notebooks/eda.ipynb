import pandas as pd
import numpy as np
import seaborn as sns
import matplotlib.pyplot as plt

# Display settings
pd.set_option('display.max_columns', None)
sns.set(style='whitegrid')

sales = pd.read_csv("../data/raw/game_sales.csv")
reviews = pd.read_csv("../data/raw/reviews_and_ratings.csv")

print("Sales shape:", sales.shape)
print("Reviews shape:", reviews.shape)

print("\nSales head:")
print(sales.head())

print("\nReviews head:")
print(reviews.head())

print("\nMissing in sales:")
print(sales.isnull().sum())

print("\nMissing in reviews:")
print(reviews.isnull().sum())

# Drop or fill missing values
sales = sales.dropna()
reviews = reviews.dropna()

print("\nSales summary:")
print(sales.describe())

print("\nReviews summary:")
print(reviews.describe())

plt.figure(figsize=(8, 5))
sns.histplot(sales['Global_Sales'], bins=40, kde=True)
plt.title('Distribution of Global Sales')
plt.xlabel('Global Sales (millions)')
plt.ylabel('Frequency')
plt.tight_layout()
plt.show()

merged = pd.merge(sales, reviews, on='Game_Name', how='inner')

print("\nMerged data preview:")
print(merged.head())

plt.figure(figsize=(8, 5))
sns.scatterplot(data=merged, x='Review_Score', y='Global_Sales')
plt.title('Review Score vs Global Sales')
plt.xlabel('Review Score')
plt.ylabel('Global Sales (millions)')
plt.tight_layout()
plt.show()

plt.figure(figsize=(8, 6))
sns.heatmap(merged.select_dtypes(include=[np.number]).corr(), annot=True, cmap='coolwarm')
plt.title('Correlation Heatmap')
plt.tight_layout()
plt.show()

if 'Genre' in merged.columns:
    plt.figure(figsize=(12, 6))
    sns.boxplot(data=merged, x='Genre', y='Global_Sales')
    plt.xticks(rotation=45)
    plt.title('Genre vs Global Sales')
    plt.tight_layout()
    plt.show()

if 'Year' in merged.columns:
    plt.figure(figsize=(10, 5))
    yearly = merged.groupby('Year')['Global_Sales'].sum().reset_index()
    sns.lineplot(data=yearly, x='Year', y='Global_Sales')
    plt.title('Total Global Sales by Year')
    plt.xlabel('Year')
    plt.ylabel('Sales (millions)')
    plt.tight_layout()
    plt.show()
