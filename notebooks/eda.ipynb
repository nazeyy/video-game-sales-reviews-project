import pandas as pd
import matplotlib.pyplot as plt
import seaborn as sns
import numpy as np

sns.set(style='whitegrid')
pd.set_option('display.max_columns', None)

#Load files
sales = pd.read_csv("data/raw/game_sales.csv")
reviews = pd.read_csv("data/raw/game_reviews_and_ratings.csv")

sales.rename(columns={'Name': 'Game_Title'}, inplace=True)
reviews.rename(columns={'Game Title': 'Game_Title'}, inplace=True)

print("Sales data:")
print(sales.head())
print("\nReviews data:")
print(reviews.head())

#Check for missing values
print("\nMissing stuff in sales:")
print(sales.isnull().sum())

print("\nMissing stuff in reviews:")
print(reviews.isnull().sum())

#Delete rows 
sales = sales.dropna(subset=['Game_Title', 'Global_Sales'])
reviews = reviews.dropna(subset=['Game_Title', 'User Rating'])

#Merge 
combined = pd.merge(sales, reviews, on='Game_Title', how='inner')
print("\nCombined table preview:")
print(combined.head())

#Show stats
print("\nSome stats from sales:")
print(sales[['Global_Sales', 'Critic_Score', 'User_Score']].describe())

print("\nStats from review side:")
print(reviews[['User Rating', 'Graphics Quality', 'Soundtrack Quality',
               'Story Quality', 'Game Length (Hours)']].describe())

#Histogram
plt.figure(figsize=(8, 5))
sns.histplot(combined['Global_Sales'], bins=30, kde=True)
plt.title("Global Sales Distribution")
plt.xlabel("Global Sales (millions)")
plt.ylabel("Number of Games")
plt.tight_layout()
plt.show()

#Scatter plot
plt.figure(figsize=(8, 5))
sns.scatterplot(data=combined, x='User Rating', y='Global_Sales', hue='Genre_x')
plt.title("User Rating vs Global Sales")
plt.xlabel("User Rating")
plt.ylabel("Sales")
plt.tight_layout()
plt.show()

#Correlation heatmap
plt.figure(figsize=(10, 6))
nums = combined.select_dtypes(include=np.number)
sns.heatmap(nums.corr(), annot=True, cmap="coolwarm")
plt.title("Correlation between Numbers")
plt.tight_layout()
plt.show()

#Boxplot 
if 'Genre_x' in combined.columns:
    plt.figure(figsize=(12, 6))
    sns.boxplot(data=combined, x='Genre_x', y='Global_Sales')
    plt.xticks(rotation=45)
    plt.title("Sales by Genre")
    plt.tight_layout()
    plt.show()

#Sales per year 
if 'Year_of_Release' in combined.columns:
    yearly = combined.groupby('Year_of_Release')['Global_Sales'].sum().reset_index()
    plt.figure(figsize=(10, 5))
    sns.lineplot(data=yearly, x='Year_of_Release', y='Global_Sales')
    plt.title("Total Sales Each Year")
    plt.xlabel("Year")
    plt.ylabel("Sales")
    plt.tight_layout()
    plt.show()

#Average rating
plt.figure(figsize=(12, 6))
sns.barplot(data=combined, x='Genre_x', y='User Rating', ci=None)
plt.xticks(rotation=45)
plt.title("User Ratings by Genre")
plt.tight_layout()
plt.show()
