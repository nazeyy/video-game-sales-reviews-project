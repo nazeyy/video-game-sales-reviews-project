import pandas as pd
import numpy as np
import seaborn as sns
import matplotlib.pyplot as plt

# Display settings
pd.set_option('display.max_columns', None)
sns.set(style='whitegrid')

sales = pd.read_csv("../data/raw/game_sales.csv")
reviews = pd.read_csv("../data/raw/reviews_and_ratings.csv")

# Rename for consistency
sales.rename(columns={'Name': 'Game_Title'}, inplace=True)
reviews.rename(columns={'Game Title': 'Game_Title'}, inplace=True)

print("Sales shape:", sales.shape)
print("Reviews shape:", reviews.shape)

print("\nSales head:")
print(sales.head())

print("\nReviews head:")
print(reviews.head())

print("\nMissing in sales:")
print(sales.isnull().sum())

print("\nMissing in reviews:")
print(reviews.isnull().sum())

# Drop rows with missing essential values
sales.dropna(subset=['Global_Sales', 'Game_Title'], inplace=True)
reviews.dropna(subset=['User Rating', 'Game_Title'], inplace=True)

print("\nSales stats:")
print(sales[['NA_Sales', 'EU_Sales', 'JP_Sales', 'Other_Sales', 'Global_Sales', 'Critic_Score', 'User_Score']].describe())

print("\nReview ratings stats:")
print(reviews[['User Rating', 'Graphics Quality', 'Soundtrack Quality', 'Story Quality', 'Game Length (Hours)']].describe())

plt.figure(figsize=(8, 5))
sns.histplot(sales['Global_Sales'], bins=40, kde=True)
plt.title('Distribution of Global Sales')
plt.xlabel('Global Sales (millions)')
plt.ylabel('Frequency')
plt.tight_layout()
plt.show()

merged = pd.merge(sales, reviews, on='Game_Title', how='inner')

print("\nMerged dataset shape:", merged.shape)
print("\nMerged preview:")
print(merged.head())

plt.figure(figsize=(8, 5))
sns.scatterplot(data=merged, x='User Rating', y='Global_Sales', hue='Genre_x')
plt.title('User Rating vs Global Sales')
plt.xlabel('User Rating (0–10)')
plt.ylabel('Global Sales (millions)')
plt.tight_layout()
plt.show()

numeric_cols = merged.select_dtypes(include=[np.number])
plt.figure(figsize=(10, 8))
sns.heatmap(numeric_cols.corr(), annot=True, cmap='coolwarm')
plt.title('Correlation Heatmap (Merged Dataset)')
plt.tight_layout()
plt.show()

plt.figure(figsize=(12, 6))
sns.boxplot(data=merged, x='Genre_x', y='Global_Sales')
plt.xticks(rotation=45)
plt.title('Global Sales by Genre')
plt.tight_layout()
plt.show()

plt.figure(figsize=(10, 5))
yearly_sales = merged.groupby('Year_of_Release')['Global_Sales'].sum().reset_index()
sns.lineplot(data=yearly_sales, x='Year_of_Release', y='Global_Sales')
plt.title('Total Global Sales by Release Year')
plt.xlabel('Release Year')
plt.ylabel('Sales (millions)')
plt.tight_layout()
plt.show()

plt.figure(figsize=(12, 6))
sns.barplot(data=merged, x='Genre_x', y='User Rating', ci=None)
plt.xticks(rotation=45)
plt.title('Average User Rating by Genre')
plt.tight_layout()
plt.show()
