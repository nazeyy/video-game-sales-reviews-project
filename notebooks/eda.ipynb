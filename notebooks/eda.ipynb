# -----------------------------
# 1. IMPORT LIBRARIES
# -----------------------------
import pandas as pd
import numpy as np
import seaborn as sns
import matplotlib.pyplot as plt

# Set style for plots
pd.set_option('display.max_columns', None)
sns.set(style='whitegrid')

# -----------------------------
# 2. LOAD DATASETS
# -----------------------------
sales = pd.read_csv("data/raw/game_sales.csv")
reviews = pd.read_csv("data/raw/game_reviews_and_ratings.csv")

# Rename to match for merging
sales.rename(columns={'Name': 'Game_Title'}, inplace=True)
reviews.rename(columns={'Game Title': 'Game_Title'}, inplace=True)

# -----------------------------
# 3. CHECK SHAPE & HEAD
# -----------------------------
print("Sales shape:", sales.shape)
print("Reviews shape:", reviews.shape)

print("\nSales sample:")
print(sales.head())

print("\nReviews sample:")
print(reviews.head())

# -----------------------------
# 4. MISSING VALUE CHECK
# -----------------------------
print("\nMissing values in sales:")
print(sales.isnull().sum())

print("\nMissing values in reviews:")
print(reviews.isnull().sum())

# Drop missing where necessary
sales.dropna(subset=['Game_Title', 'Global_Sales'], inplace=True)
reviews.dropna(subset=['Game_Title', 'User Rating'], inplace=True)

# -----------------------------
# 5. DESCRIPTIVE STATISTICS
# -----------------------------
print("\nSales summary:")
print(sales[['Global_Sales', 'Critic_Score', 'User_Score']].describe())

print("\nReview ratings summary:")
print(reviews[['User Rating', 'Graphics Quality', 'Soundtrack Quality',
               'Story Quality', 'Game Length (Hours)']].describe())

# -----------------------------
# 6. SALES DISTRIBUTION
# -----------------------------
plt.figure(figsize=(8, 5))
sns.histplot(sales['Global_Sales'], bins=40, kde=True)
plt.title('Distribution of Global Sales')
plt.xlabel('Global Sales (millions)')
plt.ylabel('Number of Games')
plt.tight_layout()
plt.show()

# -----------------------------
# 7. MERGE DATASETS
# -----------------------------
merged = pd.merge(sales, reviews, on='Game_Title', how='inner')
print("\nMerged data shape:", merged.shape)

# -----------------------------
# 8. USER RATING VS SALES
# -----------------------------
plt.figure(figsize=(8, 5))
sns.scatterplot(data=merged, x='User Rating', y='Global_Sales', hue='Genre_x')
plt.title('User Rating vs Global Sales')
plt.xlabel('User Rating (0–10)')
plt.ylabel('Global Sales (millions)')
plt.tight_layout()
plt.show()

# -----------------------------
# 9. CORRELATION HEATMAP
# -----------------------------
plt.figure(figsize=(10, 8))
numeric = merged.select_dtypes(include=[np.number])
sns.heatmap(numeric.corr(), annot=True, cmap='coolwarm')
plt.title('Correlation Heatmap')
plt.tight_layout()
plt.show()

# -----------------------------
# 10. GENRE SALES BOXPLOT
# -----------------------------
if 'Genre_x' in merged.columns:
    plt.figure(figsize=(12, 6))
    sns.boxplot(data=merged, x='Genre_x', y='Global_Sales')
    plt.xticks(rotation=45)
    plt.title('Global Sales by Genre')
    plt.tight_layout()
    plt.show()

# -----------------------------
# 11. SALES OVER YEARS
# -----------------------------
if 'Year_of_Release' in merged.columns:
    plt.figure(figsize=(10, 5))
    sales_per_year = merged.groupby('Year_of_Release')['Global_Sales'].sum().reset_index()
    sns.lineplot(data=sales_per_year, x='Year_of_Release', y='Global_Sales')
    plt.title('Total Global Sales by Year')
    plt.xlabel('Release Year')
    plt.ylabel('Sales (millions)')
    plt.tight_layout()
    plt.show()

# -----------------------------
# 12. AVERAGE USER RATING BY GENRE
# -----------------------------
plt.figure(figsize=(12, 6))
sns.barplot(data=merged, x='Genre_x', y='User Rating', ci=None)
plt.xticks(rotation=45)
plt.title('Average User Rating by Genre')
plt.tight_layout()
plt.show()
